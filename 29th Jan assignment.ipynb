{
 "cells": [
  {
   "cell_type": "code",
   "execution_count": null,
   "id": "6f1912d5-02ae-4533-9653-66c148836e3a",
   "metadata": {},
   "outputs": [],
   "source": [
    "Q1:- Guido van Rossum\n",
    "\n",
    "Q2:- Python supports three types of Programming paradigms\n",
    "\n",
    "    1.Object Oriented programming paradigms\n",
    "    2.Procedure Oriented programming paradigms\n",
    "    3.Functional programming paradigms\n",
    "\n",
    "Q3:- YES\n",
    "\n",
    "Q4:- .py\n",
    "\n",
    "Q5:- Python is both\n",
    "\n",
    "Q6:- HASTAGS(#), multiline comments(\"\"\" \"\"\")\n",
    "\n",
    "Q7:- Hastags #]\n",
    "\n",
    "Q8:- Sys.version\n",
    "    \n",
    "Q9:- Lambda\n",
    "    \n",
    "Q10:- Pip Installs Packages\n",
    "    \n",
    "Q11:- count(), del(), reverse(), append()\n",
    "    \n",
    "Q12:- 79 Characters\n",
    "\n",
    "Q13:- It generally has small programs when compared to Java and C, Easy to read, learn and write\n",
    "      User-friendly data structures\n",
    "\n",
    "Q14:- Python developers created a garbage collector for Python so that the user does not have to do manual garbage collection.\n",
    "    \n",
    "Q15:- go to the python.org website to download and install your preferred version. TO add python to path we have to go to the properities and then advanced settings and then go to enviroment variablies there is two option one is system variable and other user variable.\n",
    "\n",
    "Q16:-  Yes indentation is required in pyhton  "
   ]
  }
 ],
 "metadata": {
  "kernelspec": {
   "display_name": "Python 3 (ipykernel)",
   "language": "python",
   "name": "python3"
  },
  "language_info": {
   "codemirror_mode": {
    "name": "ipython",
    "version": 3
   },
   "file_extension": ".py",
   "mimetype": "text/x-python",
   "name": "python",
   "nbconvert_exporter": "python",
   "pygments_lexer": "ipython3",
   "version": "3.10.8"
  }
 },
 "nbformat": 4,
 "nbformat_minor": 5
}
