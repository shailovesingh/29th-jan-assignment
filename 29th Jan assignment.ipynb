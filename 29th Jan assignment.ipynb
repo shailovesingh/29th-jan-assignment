{
 "cells": [
  {
   "cell_type": "code",
   "execution_count": null,
   "id": "6f1912d5-02ae-4533-9653-66c148836e3a",
   "metadata": {},
   "outputs": [],
   "source": [
    "Q1:- Guido van Rossum\n",
    "\n",
    "Q2:- Python supports three types of Programming paradigms\n",
    "\n",
    "    1.Object Oriented programming paradigms\n",
    "    2.Procedure Oriented programming paradigms\n",
    "    3.Functional programming paradigms\n",
    "\n",
    "Q3:- YES\n",
    "\n",
    "Q4:- .py\n",
    "\n",
    "Q5:- Python is both\n",
    "\n",
    "Q6:- HASTAGS(#), multiline comments(\"\"\" \"\"\")\n",
    "\n",
    "Q7:- Hastags #]\n",
    "\n",
    "Q8:- Sys.version\n",
    "    \n",
    "Q9:- "
   ]
  }
 ],
 "metadata": {
  "kernelspec": {
   "display_name": "Python 3 (ipykernel)",
   "language": "python",
   "name": "python3"
  },
  "language_info": {
   "codemirror_mode": {
    "name": "ipython",
    "version": 3
   },
   "file_extension": ".py",
   "mimetype": "text/x-python",
   "name": "python",
   "nbconvert_exporter": "python",
   "pygments_lexer": "ipython3",
   "version": "3.10.8"
  }
 },
 "nbformat": 4,
 "nbformat_minor": 5
}
